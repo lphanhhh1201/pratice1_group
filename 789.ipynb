{
 "cells": [
  {
   "cell_type": "markdown",
   "metadata": {},
   "source": [
    "### Bài 7: Một công ty vận tải có cách tính chi phí giao hàng như sau:\n",
    "1. 10kilogram đầu tiên: \\$5/kg\n",
    "2. Từ kilogram thứ 11 đến 20: \\$7/kg\n",
    "3. Từ kilogram thứ 20 trở lên: \\$10/kg\n",
    "\n",
    "Viết chương trình nhập vào số kg cần giao(số nguyên) và in ra chi phí giao hàng tương ứng"
   ]
  },
  {
   "cell_type": "code",
   "execution_count": 7,
   "metadata": {},
   "outputs": [
    {
     "name": "stdout",
     "output_type": "stream",
     "text": [
      "Chi phí giao hàng tương ứng là: $20110\n"
     ]
    }
   ],
   "source": [
    "def tinh_chi_phi_giao_hang(so_kg):\n",
    "    if so_kg <= 10:\n",
    "        chi_phi = so_kg * 5\n",
    "    elif so_kg <= 20:\n",
    "        chi_phi = 10 * 5 + (so_kg - 10) * 7\n",
    "    else:\n",
    "        chi_phi = 10 * 5 + 10 * 7 + (so_kg - 20) * 10\n",
    "    return chi_phi\n",
    "\n",
    "so_kg = int(input(\"Nhập số kg cần giao hàng: \"))\n",
    "\n",
    "chi_phi = tinh_chi_phi_giao_hang(so_kg)\n",
    "print(\"Chi phí giao hàng tương ứng là: ${}\".format(chi_phi))"
   ]
  },
  {
   "cell_type": "markdown",
   "metadata": {},
   "source": [
    "### Bài 8: Viết chương trình nhập vào số năm và cho biết năm đó là năm nhuận hay năm không nhuận."
   ]
  },
  {
   "cell_type": "code",
   "execution_count": 5,
   "metadata": {},
   "outputs": [
    {
     "name": "stdout",
     "output_type": "stream",
     "text": [
      "2019 không phải là năm nhuận.\n"
     ]
    }
   ],
   "source": [
    "def kiem_tra_nam_nhuan(nam):\n",
    "    if (nam % 4 == 0 and nam % 100 != 0) or (nam % 400 == 0):\n",
    "        return True\n",
    "    else:\n",
    "        return False\n",
    "\n",
    "nam = int(input(\"Nhập số năm: \"))\n",
    "\n",
    "if kiem_tra_nam_nhuan(nam):\n",
    "    print(\"{} là năm nhuận.\".format(nam))\n",
    "else:\n",
    "    print(\"{} không phải là năm nhuận.\".format(nam))"
   ]
  },
  {
   "cell_type": "markdown",
   "metadata": {},
   "source": [
    "### Bài 9: Viết chương trình nhập vào 1 số từ 1 đến 7 và in ra số ngày trong tuần tương ứng như sau:\n",
    "- 1: Sunday\n",
    "- 2: Monday\n",
    "- 3: Tuesday\n",
    "- 4: Wednesday\n",
    "- 5: Thursday\n",
    "- 6: Friday\n",
    "- 7: Saturday"
   ]
  },
  {
   "cell_type": "code",
   "execution_count": 1,
   "metadata": {},
   "outputs": [
    {
     "name": "stdout",
     "output_type": "stream",
     "text": [
      "Monday\n"
     ]
    }
   ],
   "source": [
    "def in_so_ngay_trong_tuan(so):\n",
    "    if so == 1:\n",
    "        print(\"Sunday\")\n",
    "    elif so == 2:\n",
    "        print(\"Monday\")\n",
    "    elif so == 3:\n",
    "        print(\"Tuesday\")\n",
    "    elif so == 4:\n",
    "        print(\"Wednesday\")\n",
    "    elif so == 5:\n",
    "        print(\"Thursday\")\n",
    "    elif so == 6:\n",
    "        print(\"Friday\")\n",
    "    elif so == 7:\n",
    "        print(\"Saturday\")\n",
    "    else:\n",
    "        print(\"Số không hợp lệ. Vui lòng nhập số từ 1 đến 7.\")\n",
    "\n",
    "so = int(input(\"Nhập số từ 1 đến 7: \"))\n",
    "\n",
    "in_so_ngay_trong_tuan(so)"
   ]
  }
 ],
 "metadata": {
  "kernelspec": {
   "display_name": "Python 3",
   "language": "python",
   "name": "python3"
  },
  "language_info": {
   "codemirror_mode": {
    "name": "ipython",
    "version": 3
   },
   "file_extension": ".py",
   "mimetype": "text/x-python",
   "name": "python",
   "nbconvert_exporter": "python",
   "pygments_lexer": "ipython3",
   "version": "3.12.3"
  }
 },
 "nbformat": 4,
 "nbformat_minor": 2
}
